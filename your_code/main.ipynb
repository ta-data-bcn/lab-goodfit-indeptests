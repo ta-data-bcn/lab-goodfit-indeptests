{
 "cells": [
  {
   "cell_type": "code",
   "execution_count": 1,
   "metadata": {},
   "outputs": [],
   "source": [
    "## importing libraries\n",
    "\n",
    "from scipy import stats\n",
    "import pandas as pd\n",
    "import numpy as np"
   ]
  },
  {
   "cell_type": "markdown",
   "metadata": {},
   "source": [
    "## Question 1\n",
    "The following table indicates the number of 6-point scores in an American rugby match in the 1979 season.\n",
    "\n",
    "![](table1.png)\n",
    "\n",
    "Based on these results, we create a Poisson distribution with the sample mean parameter  = 2.435. Is there any reason to believe that at a .05 level the number of scores is a Poisson variable?"
   ]
  },
  {
   "cell_type": "code",
   "execution_count": 2,
   "metadata": {},
   "outputs": [],
   "source": [
    "## data import\n",
    "scores =[i for i in range(8)]\n",
    "times = [35,99,104,110,62,25,10,3]\n",
    "scores_df = pd.DataFrame(times, index=scores, columns=['#Times'])"
   ]
  },
  {
   "cell_type": "code",
   "execution_count": 3,
   "metadata": {},
   "outputs": [
    {
     "data": {
      "text/html": [
       "<div>\n",
       "<style scoped>\n",
       "    .dataframe tbody tr th:only-of-type {\n",
       "        vertical-align: middle;\n",
       "    }\n",
       "\n",
       "    .dataframe tbody tr th {\n",
       "        vertical-align: top;\n",
       "    }\n",
       "\n",
       "    .dataframe thead th {\n",
       "        text-align: right;\n",
       "    }\n",
       "</style>\n",
       "<table border=\"1\" class=\"dataframe\">\n",
       "  <thead>\n",
       "    <tr style=\"text-align: right;\">\n",
       "      <th></th>\n",
       "      <th>#Times</th>\n",
       "    </tr>\n",
       "  </thead>\n",
       "  <tbody>\n",
       "    <tr>\n",
       "      <th>0</th>\n",
       "      <td>35</td>\n",
       "    </tr>\n",
       "    <tr>\n",
       "      <th>1</th>\n",
       "      <td>99</td>\n",
       "    </tr>\n",
       "    <tr>\n",
       "      <th>2</th>\n",
       "      <td>104</td>\n",
       "    </tr>\n",
       "    <tr>\n",
       "      <th>3</th>\n",
       "      <td>110</td>\n",
       "    </tr>\n",
       "    <tr>\n",
       "      <th>4</th>\n",
       "      <td>62</td>\n",
       "    </tr>\n",
       "    <tr>\n",
       "      <th>5</th>\n",
       "      <td>25</td>\n",
       "    </tr>\n",
       "    <tr>\n",
       "      <th>6</th>\n",
       "      <td>10</td>\n",
       "    </tr>\n",
       "    <tr>\n",
       "      <th>7</th>\n",
       "      <td>3</td>\n",
       "    </tr>\n",
       "  </tbody>\n",
       "</table>\n",
       "</div>"
      ],
      "text/plain": [
       "   #Times\n",
       "0      35\n",
       "1      99\n",
       "2     104\n",
       "3     110\n",
       "4      62\n",
       "5      25\n",
       "6      10\n",
       "7       3"
      ]
     },
     "execution_count": 3,
     "metadata": {},
     "output_type": "execute_result"
    }
   ],
   "source": [
    "scores_df"
   ]
  },
  {
   "cell_type": "code",
   "execution_count": 4,
   "metadata": {},
   "outputs": [
    {
     "data": {
      "text/plain": [
       "6.4913106811098205"
      ]
     },
     "execution_count": 4,
     "metadata": {},
     "output_type": "execute_result"
    }
   ],
   "source": [
    "#We calculate the probability of each event to happen according to the poisson distribution\n",
    "##since the last value is equal to 7 or more, we are not going to calculate the probability of being 7, but the \n",
    "#probability of 1- the others. \n",
    "\n",
    "## Poisson parameters\n",
    "s_mean = 2.435\n",
    "poisson_prob =  [stats.poisson.pmf(k=score, mu=s_mean) for score in scores[:-1]]\n",
    "poisson_prob.append(1-sum(poisson_prob))\n",
    "\n",
    "sum(poisson_prob) #we check that all prob sum 1\n",
    "\n",
    "scores_df['poisson_prob'] = poisson_prob\n",
    "\n",
    "#we calculate the expected value \n",
    "scores_df['exp_value'] = scores_df['#Times'].sum() * scores_df['poisson_prob']\n",
    "\n",
    "#we calculate the difference between times and expected value powered at 2 \n",
    "scores_df['diff'] = (scores_df['#Times'] - scores_df['exp_value'])**2\n",
    "\n",
    "chi2_score = sum(scores_df['diff']/scores_df['exp_value'])\n",
    "chi2_score"
   ]
  },
  {
   "cell_type": "code",
   "execution_count": 5,
   "metadata": {},
   "outputs": [],
   "source": [
    "\n",
    "## CI \n",
    "alpha =0.05\n",
    "#according to the documentation, https://docs.scipy.org/doc/scipy/reference/generated/scipy.stats.chisquare.html\n",
    "#when any parameter is estimated, as in this case the sample mean, it has to be substracted from the degrees of freedom\n",
    "#dof = k-1-p being #p estimated parameters. in this case p=1 \n",
    "p=1\n",
    "dof = len(scores) -1 - p  #degrees of freedom, in this case k-1, being k=8 values the probability can take. \n",
    "\n",
    "## hypotheses testing \n",
    "# H0: number of scores follows a poisson distribution \n",
    "# Ha: numbr of scores does not follow a poisson distribution \n",
    "\n",
    "#we calculate the chi-squared indicator to prove if our chi2_score is inside the CI. \n",
    "\n",
    "#http://eric.univ-lyon2.fr/~ricco/tanagra/fichiers/en_Tanagra_Calcul_P_Value.pdf\n",
    "\n",
    "upper_CI = stats.chi2.ppf(q=1-alpha, df=dof )"
   ]
  },
  {
   "cell_type": "code",
   "execution_count": 6,
   "metadata": {},
   "outputs": [
    {
     "data": {
      "text/plain": [
       "[0, 12.591587243743977]"
      ]
     },
     "execution_count": 6,
     "metadata": {},
     "output_type": "execute_result"
    }
   ],
   "source": [
    "CI = [0, upper_CI]\n",
    "CI"
   ]
  },
  {
   "cell_type": "markdown",
   "metadata": {},
   "source": [
    "`Conclusions`: \n",
    "\n",
    "Since the chi2_score value is 6.49131, it belongs to the CI we have calculated. That means that we **cannot** reject the null hypotheses"
   ]
  },
  {
   "cell_type": "markdown",
   "metadata": {},
   "source": [
    "# Question 2\n",
    "The following are the ordered values of a random sample of SAT scores (university entrance exam) for several students: 852, 875, 910, 933, 957, 963, 981, 998, 1010, 1015, 1018, 1023, 1035, 1048, 1063. In previous years, the scores were presented by N (985,50). Based on the sample, is there any reason to believe that there has been a change in the distribution of scores this year? Use the level alpha = 0.05. "
   ]
  },
  {
   "cell_type": "code",
   "execution_count": 10,
   "metadata": {},
   "outputs": [
    {
     "data": {
      "text/plain": [
       "Ks_2sampResult(statistic=0.2, pvalue=0.9383310279844598)"
      ]
     },
     "execution_count": 10,
     "metadata": {},
     "output_type": "execute_result"
    }
   ],
   "source": [
    "SAT_scores = [852, 875, 910, 933, 957, 963, 981, 998, 1010, 1015, 1018, 1023, 1035, 1048, 1063]\n",
    "\n",
    "#previous years values\n",
    "mu = 985\n",
    "sigma = 50\n",
    "alpha= 0.05 \n",
    "\n",
    "pop_SAT = stats.norm.rvs(loc=mu, scale=sigma, size=len(SAT_scores))\n",
    "\n",
    "stats.ks_2samp(SAT_scores, pop_SAT)\n",
    "\n",
    "#since in this case we are working with continuous variables, we should apply a different test: \n",
    "#Kolmogarov-Smirnov Test (K-TEST)\n",
    "\n",
    "#stats.kstest(rvs=SAT_scores, cdf=stats.norm.rvs(size=15, loc=mu, scale=sigma), N= len(SAT_scores))"
   ]
  },
  {
   "cell_type": "markdown",
   "metadata": {},
   "source": [
    "`Insights`: \n",
    "\n",
    "We **cannot** reject the null hypotheses since the pvalue is close to 1 and it is higher than 0.05. "
   ]
  },
  {
   "cell_type": "markdown",
   "metadata": {},
   "source": [
    "## Question 3\n",
    "Let's analyze a discrete distribution. To analyze the number of defective items in a factory in the city of Medellín, we took a random sample of n = 60 articles and observed the number of defectives in the following table:\n",
    "\n",
    "![](table4.png)\n",
    "\n",
    "A poissón distribution was proposed since it is defined for x = 0,1,2,3, .... using the following model:\n",
    "\n",
    "![](image1.png)\n",
    "\n",
    "Does the distribution of defective items follow this distribution?"
   ]
  },
  {
   "cell_type": "code",
   "execution_count": 99,
   "metadata": {},
   "outputs": [
    {
     "data": {
      "text/html": [
       "<div>\n",
       "<style scoped>\n",
       "    .dataframe tbody tr th:only-of-type {\n",
       "        vertical-align: middle;\n",
       "    }\n",
       "\n",
       "    .dataframe tbody tr th {\n",
       "        vertical-align: top;\n",
       "    }\n",
       "\n",
       "    .dataframe thead th {\n",
       "        text-align: right;\n",
       "    }\n",
       "</style>\n",
       "<table border=\"1\" class=\"dataframe\">\n",
       "  <thead>\n",
       "    <tr style=\"text-align: right;\">\n",
       "      <th></th>\n",
       "      <th>obs_freq</th>\n",
       "    </tr>\n",
       "  </thead>\n",
       "  <tbody>\n",
       "    <tr>\n",
       "      <th>0</th>\n",
       "      <td>32</td>\n",
       "    </tr>\n",
       "    <tr>\n",
       "      <th>1</th>\n",
       "      <td>15</td>\n",
       "    </tr>\n",
       "    <tr>\n",
       "      <th>2</th>\n",
       "      <td>0</td>\n",
       "    </tr>\n",
       "    <tr>\n",
       "      <th>3</th>\n",
       "      <td>9</td>\n",
       "    </tr>\n",
       "    <tr>\n",
       "      <th>4</th>\n",
       "      <td>4</td>\n",
       "    </tr>\n",
       "  </tbody>\n",
       "</table>\n",
       "</div>"
      ],
      "text/plain": [
       "   obs_freq\n",
       "0        32\n",
       "1        15\n",
       "2         0\n",
       "3         9\n",
       "4         4"
      ]
     },
     "execution_count": 99,
     "metadata": {},
     "output_type": "execute_result"
    }
   ],
   "source": [
    "## data import\n",
    "def_items =[i for i in range(5)]\n",
    "obs_freq = [32,15,0,9,4]\n",
    "obs_df = pd.DataFrame(obs_freq, index=def_items, columns=['obs_freq'])\n",
    "obs_df\n",
    "\n"
   ]
  },
  {
   "cell_type": "code",
   "execution_count": 115,
   "metadata": {
    "scrolled": true
   },
   "outputs": [
    {
     "data": {
      "text/plain": [
       "34.32169618960069"
      ]
     },
     "execution_count": 115,
     "metadata": {},
     "output_type": "execute_result"
    }
   ],
   "source": [
    "#We calculate the probability of each event to happen according to the \n",
    "sample_mean = sum(obs_freq[x]  * x for x in def_items)/sum(obs_freq)\n",
    "\n",
    "poisson_prob2 =  [stats.poisson.pmf(k=item, mu=sample_mean) for item in def_items[:-1]]\n",
    "poisson_prob2.append(1-sum(poisson_prob2))\n",
    "\n",
    "sum(poisson_prob2) #we check that all prob sum 1\n",
    "\n",
    "obs_df['poisson_prob'] = poisson_prob2\n",
    "\n",
    "#we calculate the expected value \n",
    "obs_df['exp_value'] = obs_df['obs_freq'].sum() * obs_df['poisson_prob']\n",
    "\n",
    "#we calculate the difference between times and expected value powered at 2 \n",
    "obs_df['diff'] = (obs_df['obs_freq'] - obs_df['exp_value'])**2\n",
    "\n",
    "chi2_score = sum(obs_df['diff']/obs_df['exp_value'])\n",
    "chi2_score"
   ]
  },
  {
   "cell_type": "code",
   "execution_count": 124,
   "metadata": {},
   "outputs": [
    {
     "data": {
      "text/html": [
       "<div>\n",
       "<style scoped>\n",
       "    .dataframe tbody tr th:only-of-type {\n",
       "        vertical-align: middle;\n",
       "    }\n",
       "\n",
       "    .dataframe tbody tr th {\n",
       "        vertical-align: top;\n",
       "    }\n",
       "\n",
       "    .dataframe thead th {\n",
       "        text-align: right;\n",
       "    }\n",
       "</style>\n",
       "<table border=\"1\" class=\"dataframe\">\n",
       "  <thead>\n",
       "    <tr style=\"text-align: right;\">\n",
       "      <th></th>\n",
       "      <th>obs_freq</th>\n",
       "      <th>poisson_prob</th>\n",
       "      <th>exp_value</th>\n",
       "      <th>diff</th>\n",
       "    </tr>\n",
       "  </thead>\n",
       "  <tbody>\n",
       "    <tr>\n",
       "      <th>0</th>\n",
       "      <td>32</td>\n",
       "      <td>0.380349</td>\n",
       "      <td>22.820925</td>\n",
       "      <td>84.255411</td>\n",
       "    </tr>\n",
       "    <tr>\n",
       "      <th>1</th>\n",
       "      <td>15</td>\n",
       "      <td>0.367670</td>\n",
       "      <td>22.060228</td>\n",
       "      <td>49.846818</td>\n",
       "    </tr>\n",
       "    <tr>\n",
       "      <th>2</th>\n",
       "      <td>0</td>\n",
       "      <td>0.177707</td>\n",
       "      <td>10.662443</td>\n",
       "      <td>113.687701</td>\n",
       "    </tr>\n",
       "    <tr>\n",
       "      <th>3</th>\n",
       "      <td>9</td>\n",
       "      <td>0.057261</td>\n",
       "      <td>3.435676</td>\n",
       "      <td>30.961699</td>\n",
       "    </tr>\n",
       "    <tr>\n",
       "      <th>4</th>\n",
       "      <td>4</td>\n",
       "      <td>0.017012</td>\n",
       "      <td>1.020727</td>\n",
       "      <td>8.876068</td>\n",
       "    </tr>\n",
       "  </tbody>\n",
       "</table>\n",
       "</div>"
      ],
      "text/plain": [
       "   obs_freq  poisson_prob  exp_value        diff\n",
       "0        32      0.380349  22.820925   84.255411\n",
       "1        15      0.367670  22.060228   49.846818\n",
       "2         0      0.177707  10.662443  113.687701\n",
       "3         9      0.057261   3.435676   30.961699\n",
       "4         4      0.017012   1.020727    8.876068"
      ]
     },
     "execution_count": 124,
     "metadata": {},
     "output_type": "execute_result"
    }
   ],
   "source": [
    "obs_df"
   ]
  },
  {
   "cell_type": "code",
   "execution_count": 122,
   "metadata": {},
   "outputs": [],
   "source": [
    "## CI \n",
    "alpha =0.05\n",
    "#according to the documentation, https://docs.scipy.org/doc/scipy/reference/generated/scipy.stats.chisquare.html\n",
    "#when any parameter is estimated, as in this case the sample mean, it has to be substracted from the degrees of freedom\n",
    "#dof = k-1-p being #p estimated parameters. in this case p=0 \n",
    "p=0\n",
    "dof = len(scores) -1 - p  #degrees of freedom, in this case k-1, being k=8 values the probability can take. \n",
    "\n",
    "## hypotheses testing \n",
    "# H0: number of defective pieces follows a poisson distribution \n",
    "# Ha:  number of defective piecesdoes not follow a poisson distribution \n",
    "\n",
    "#we calculate the chi-squared indicator to prove if our chi2_score is inside the CI. \n",
    "\n",
    "#http://eric.univ-lyon2.fr/~ricco/tanagra/fichiers/en_Tanagra_Calcul_P_Value.pdf\n",
    "\n",
    "upper_CI = stats.chi2.ppf(q=1-alpha, df=dof )"
   ]
  },
  {
   "cell_type": "code",
   "execution_count": 123,
   "metadata": {},
   "outputs": [
    {
     "data": {
      "text/plain": [
       "[0, 14.067140449340169]"
      ]
     },
     "execution_count": 123,
     "metadata": {},
     "output_type": "execute_result"
    }
   ],
   "source": [
    "CI = [0, upper_CI]\n",
    "CI"
   ]
  },
  {
   "cell_type": "markdown",
   "metadata": {},
   "source": [
    "`Conclusions`: \n",
    "\n",
    "Since the chi2_score value is 34.32,  it does not belongs to the CI we have calculated. That means that we **can** reject the null hypotheses"
   ]
  },
  {
   "cell_type": "markdown",
   "metadata": {},
   "source": [
    "## Question 4\n",
    "A quality control engineer takes a simple of 10 tires that come out of an assembly line, and would like to verify on the basis of the data that follows, if the number of tires with defects observed over 200 days, if it is true that 5% of all tires have defects (that is, if the sample comes from a binomial population with n = 10 and p = 0.05). "
   ]
  },
  {
   "cell_type": "code",
   "execution_count": null,
   "metadata": {},
   "outputs": [],
   "source": [
    "size = 10 \n"
   ]
  },
  {
   "cell_type": "markdown",
   "metadata": {},
   "source": [
    "## Question 5\n",
    "A researcher gathers information about the patterns of physical activity (AF) of children in the fifth grade of primary school of a public school. He defines three categories of physical activity (1 = Low, 2 = Medium, 3 = High). He also inquires about the regular consumption of sugary drinks at school, and defines two categories (1 = consumed, 0 = not consumed). We would like to evaluate if there is an association between patterns of physical activity and the consumption of sugary drinks for the children of this school, at a level of 5% significance. The results are in the following table: \n",
    "\n",
    "![](table5.png)"
   ]
  },
  {
   "cell_type": "code",
   "execution_count": null,
   "metadata": {},
   "outputs": [],
   "source": [
    "#your answer here"
   ]
  }
 ],
 "metadata": {
  "kernelspec": {
   "display_name": "Python 3",
   "language": "python",
   "name": "python3"
  },
  "language_info": {
   "codemirror_mode": {
    "name": "ipython",
    "version": 3
   },
   "file_extension": ".py",
   "mimetype": "text/x-python",
   "name": "python",
   "nbconvert_exporter": "python",
   "pygments_lexer": "ipython3",
   "version": "3.7.3"
  }
 },
 "nbformat": 4,
 "nbformat_minor": 2
}
